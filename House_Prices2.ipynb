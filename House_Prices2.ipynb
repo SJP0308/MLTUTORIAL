{
  "nbformat": 4,
  "nbformat_minor": 0,
  "metadata": {
    "colab": {
      "provenance": [],
      "collapsed_sections": [
        "-pkJ42Xks-ic"
      ],
      "authorship_tag": "ABX9TyOWMUJWA5P4BW46jYZUWLTW",
      "include_colab_link": true
    },
    "kernelspec": {
      "name": "python3",
      "display_name": "Python 3"
    },
    "language_info": {
      "name": "python"
    }
  },
  "cells": [
    {
      "cell_type": "markdown",
      "metadata": {
        "id": "view-in-github",
        "colab_type": "text"
      },
      "source": [
        "<a href=\"https://colab.research.google.com/github/SJP0308/MLTUTORIAL/blob/House-Prices/House_Prices2.ipynb\" target=\"_parent\"><img src=\"https://colab.research.google.com/assets/colab-badge.svg\" alt=\"Open In Colab\"/></a>"
      ]
    },
    {
      "cell_type": "markdown",
      "source": [
        "# **문제 정의**"
      ],
      "metadata": {
        "id": "-pkJ42Xks-ic"
      }
    },
    {
      "cell_type": "markdown",
      "source": [
        "**It is your job to predict the sales price for each house.** For each Id in the test set, you must predict the value of the SalePrice variable."
      ],
      "metadata": {
        "id": "t4YQ0dNetB4Z"
      }
    },
    {
      "cell_type": "markdown",
      "source": [
        "# **평가 방식**"
      ],
      "metadata": {
        "id": "CMKks8p9tB7J"
      }
    },
    {
      "cell_type": "markdown",
      "source": [
        "**Submissions are evaluated on Root-Mean-Squared-Error (RMSE)** between the logarithm of the predicted value and the logarithm of the observed sales price. (Taking logs means that errors in predicting expensive houses and cheap houses will affect the result equally.)"
      ],
      "metadata": {
        "id": "gmUAXknNtB97"
      }
    },
    {
      "cell_type": "markdown",
      "source": [
        "# **Download**"
      ],
      "metadata": {
        "id": "qt7_3TSRtCAX"
      }
    },
    {
      "cell_type": "code",
      "source": [
        "# 데이터셋 다운로드\n",
        "def download_dataset(datafile_name):\n",
        "  from google.colab import drive\n",
        "  drive.mount('/content/drive')\n",
        "  path = f'/content/drive/My Drive/{datafile_name}'\n",
        "  train_df = pd.read_csv(f'{path}/train.csv')\n",
        "  test_df = pd.read_csv(f'{path}/test.csv')\n",
        "  print('데이터 다운로드 완료!')\n",
        "  return pd.concat([train_df, test_df], ignore_index=True)"
      ],
      "metadata": {
        "id": "WeoEnrpArvCb"
      },
      "execution_count": 1,
      "outputs": []
    },
    {
      "cell_type": "code",
      "execution_count": 2,
      "metadata": {
        "colab": {
          "base_uri": "https://localhost:8080/"
        },
        "id": "c2pbU9GotVk2",
        "outputId": "61705ebf-e8cf-4f5a-f741-b63fb3642740"
      },
      "outputs": [
        {
          "output_type": "stream",
          "name": "stdout",
          "text": [
            "Mounted at /content/drive\n",
            "데이터 다운로드 완료!\n"
          ]
        }
      ],
      "source": [
        "import numpy as np\n",
        "import pandas as pd\n",
        "import matplotlib.pyplot as plt\n",
        "import seaborn as sns\n",
        "\n",
        "import warnings\n",
        "# 경고 메시지를 무시하도록 설정\n",
        "warnings.filterwarnings('ignore')\n",
        "\n",
        "# 플롯을 인라인으로 표시하도록 설정\n",
        "%matplotlib inline\n",
        "\n",
        "df = download_dataset('house_prices')"
      ]
    },
    {
      "cell_type": "markdown",
      "source": [
        "# **Data processing**"
      ],
      "metadata": {
        "id": "-wvoh8fF3LzI"
      }
    },
    {
      "cell_type": "code",
      "source": [
        "# 스피어맨 인코딩\n",
        "def Spearman_encode(df, feature):\n",
        "    ordering = df.groupby(feature)['SalePrice'].mean().sort_values().reset_index()\n",
        "    ordering['ordering'] = range(1, len(ordering)+1)\n",
        "    df[feature] = df[feature].map(dict(zip(ordering[feature], ordering['ordering'])))\n",
        "    return df"
      ],
      "metadata": {
        "id": "IEOOoIl2rxq0"
      },
      "execution_count": 3,
      "outputs": []
    },
    {
      "cell_type": "code",
      "source": [
        "quantitative = df.select_dtypes(include='number').drop(columns=['Id', 'SalePrice'])\n",
        "qualitative = df.select_dtypes(include='object')\n",
        "\n",
        "for col in qualitative:\n",
        "  df = Spearman_encode(df, col)"
      ],
      "metadata": {
        "id": "uNpfIEY93ZdX"
      },
      "execution_count": 4,
      "outputs": []
    },
    {
      "cell_type": "code",
      "source": [
        "df = df.drop(df[(df['GrLivArea']>4000) & (df['SalePrice']<2.60)].index)\n",
        "df.reset_index(drop=True, inplace=True)\n",
        "df['SalePrice'] = np.log1p(df.SalePrice)"
      ],
      "metadata": {
        "id": "oW7cVTCd5GXC"
      },
      "execution_count": 5,
      "outputs": []
    },
    {
      "cell_type": "markdown",
      "source": [
        "# **Features**"
      ],
      "metadata": {
        "id": "kq2JaZ0BvylD"
      }
    },
    {
      "cell_type": "code",
      "source": [
        "# groupby로 결측치 채우기\n",
        "def fill_null_by_group(df, group_col, target_col):\n",
        "  return df[target_col].fillna(df.groupby(group_col)[target_col].transform(lambda x: x.mode()[0] if not x.mode().empty\n",
        "                                                                           else df[target_col].mode()[0]))"
      ],
      "metadata": {
        "id": "IRz8G4GJr0I2"
      },
      "execution_count": 6,
      "outputs": []
    },
    {
      "cell_type": "code",
      "source": [
        "for col in ['Alley', 'MasVnrType', 'BsmtQual', 'BsmtCond', 'BsmtExposure', 'BsmtFinType1', 'BsmtFinType2', 'FireplaceQu',\n",
        "            'GarageType', 'GarageFinish', 'GarageQual', 'GarageCond', 'PoolQC', 'Fence', 'MiscFeature']:\n",
        "            df[col] = df[col].fillna('None')\n",
        "\n",
        "for col in ['MasVnrArea', 'BsmtFinSF1', 'BsmtFinSF2', 'BsmtUnfSF', 'TotalBsmtSF', 'BsmtFullBath', 'BsmtHalfBath']:\n",
        "  df[col] = df[col].fillna(0)\n",
        "\n",
        "groupby = {'Neighborhood': ['MSZoning', 'LotFrontage', 'Exterior1st', 'Exterior2nd', 'Electrical'],\n",
        "           'KitchenAbvGr': ['KitchenQual'],\n",
        "           'GarageType': ['GarageYrBlt', 'GarageCars', 'GarageArea']}\n",
        "for key, group in groupby.items():\n",
        "  for col in group:\n",
        "    df[col] = fill_null_by_group(df, key, col)\n",
        "\n",
        "df['SaleType'] = df['SaleType'].fillna(df['SaleType'].mode()[0])\n",
        "df[\"Functional\"] = df[\"Functional\"].fillna(\"Typ\")\n",
        "df.drop(['Id'], axis=1, inplace=True)\n",
        "df.drop(['Utilities'], axis=1, inplace=True)\n",
        "\n",
        "for col in ['MSSubClass', 'YrSold', 'MoSold']:\n",
        "  df[col] = df[col].apply(str)"
      ],
      "metadata": {
        "id": "NIe4_euWJUws"
      },
      "execution_count": 7,
      "outputs": []
    },
    {
      "cell_type": "code",
      "source": [
        "from scipy.stats import skew\n",
        "from scipy.special import boxcox1p\n",
        "from scipy.stats import boxcox_normmax\n",
        "\n",
        "quantitative = df.select_dtypes(include='number').columns[:-1]\n",
        "high_skew = quantitative[df[quantitative].apply(lambda x: skew(x)) > 0.5]\n",
        "for col in high_skew.drop('LotArea'):\n",
        "    try:\n",
        "        df[col] = boxcox1p(df[col], boxcox_normmax(df[col]+1))\n",
        "    except Exception as e:\n",
        "        print(f\"Error processing column {col}: {e}\")\n",
        "\n",
        "df['LotArea'] = np.log1p(df['LotArea'])"
      ],
      "metadata": {
        "colab": {
          "base_uri": "https://localhost:8080/"
        },
        "id": "deOX2mG_A0KP",
        "outputId": "221f7626-c846-487e-e8e1-6eb3ea5bfd08"
      },
      "execution_count": 8,
      "outputs": [
        {
          "output_type": "stream",
          "name": "stdout",
          "text": [
            "Error processing column 1stFlrSF: The algorithm terminated without finding a valid bracket. Consider trying different initial points.\n"
          ]
        }
      ]
    },
    {
      "cell_type": "code",
      "source": [
        "df['YrBltAndRemod'] = df['YearBuilt'] + df['YearRemodAdd']\n",
        "df['TotalSF'] = df['TotalBsmtSF'] + df['1stFlrSF'] + df['2ndFlrSF']\n",
        "df['Total_sqr_footage'] = df['BsmtFinSF1'] + df['BsmtFinSF2'] + df['1stFlrSF'] + df['2ndFlrSF']\n",
        "df['Total_Bathrooms'] = df['FullBath'] + (0.5*df['HalfBath']) + df['BsmtFullBath'] + (0.5*df['BsmtHalfBath'])\n",
        "df['Total_porch_sf'] = df['OpenPorchSF'] + df['3SsnPorch'] + df['EnclosedPorch'] + df['ScreenPorch'] + df['WoodDeckSF']\n",
        "\n",
        "df['haspool'] = df['PoolArea'].apply(lambda x: 1 if x > 0 else 0)\n",
        "df['has2ndfloor'] = df['2ndFlrSF'].apply(lambda x: 1 if x > 0 else 0)\n",
        "df['hasgarage'] = df['GarageArea'].apply(lambda x: 1 if x > 0 else 0)\n",
        "df['hasbsmt'] = df['TotalBsmtSF'].apply(lambda x: 1 if x > 0 else 0)\n",
        "df['hasfireplace'] = df['Fireplaces'].apply(lambda x: 1 if x > 0 else 0)"
      ],
      "metadata": {
        "id": "rnqzPD4RLfZI"
      },
      "execution_count": 9,
      "outputs": []
    },
    {
      "cell_type": "code",
      "source": [
        "df = pd.get_dummies(df).reset_index(drop=True)\n",
        "df.shape"
      ],
      "metadata": {
        "colab": {
          "base_uri": "https://localhost:8080/"
        },
        "id": "RseLlSdtM8sU",
        "outputId": "bf3fd7c1-4b47-496b-df0f-bc55218d1775"
      },
      "execution_count": 10,
      "outputs": [
        {
          "output_type": "execute_result",
          "data": {
            "text/plain": [
              "(2919, 190)"
            ]
          },
          "metadata": {},
          "execution_count": 10
        }
      ]
    },
    {
      "cell_type": "markdown",
      "source": [
        "# **model**"
      ],
      "metadata": {
        "id": "Dpf_vSr6Qe1N"
      }
    },
    {
      "cell_type": "code",
      "source": [
        "from sklearn.preprocessing import RobustScaler\n",
        "\n",
        "rbst_scaler=RobustScaler()\n",
        "X_train = rbst_scaler.fit_transform(df[df['SalePrice'].notnull()].drop('SalePrice', axis=1).values)\n",
        "X_test = rbst_scaler.transform(df[df['SalePrice'].isnull()].drop('SalePrice', axis=1).values)\n",
        "target_label = df[df['SalePrice'].notnull()]['SalePrice'].values"
      ],
      "metadata": {
        "id": "D0oOsW_aXqHs"
      },
      "execution_count": 11,
      "outputs": []
    },
    {
      "cell_type": "code",
      "source": [
        "from sklearn.model_selection import KFold, cross_val_score\n",
        "from sklearn.linear_model import Lasso, ElasticNet\n",
        "from sklearn.ensemble import RandomForestRegressor, GradientBoostingRegressor\n",
        "from xgboost import XGBRegressor\n",
        "from lightgbm import LGBMRegressor\n",
        "\n",
        "# KFold 설정\n",
        "kfold = KFold(n_splits=4, shuffle=True, random_state=42)\n",
        "random_state = 42\n",
        "\n",
        "# 회귀 모델 리스트\n",
        "reg = [\n",
        "    Lasso(random_state=random_state),\n",
        "    ElasticNet(random_state=random_state),\n",
        "    RandomForestRegressor(random_state=random_state),\n",
        "    GradientBoostingRegressor(random_state=random_state),\n",
        "    XGBRegressor(use_label_encoder=False, eval_metric='rmse', random_state=random_state),  # XGBoost 설정\n",
        "    LGBMRegressor(random_state=random_state)\n",
        "]\n",
        "\n",
        "# 교차 검증 및 RMSE 계산\n",
        "reg_results = []\n",
        "for r in reg:\n",
        "    scores = cross_val_score(r, X_train, target_label, scoring='neg_mean_squared_error', cv=kfold)\n",
        "    rmse = np.mean(np.sqrt(-scores))  # RMSE로 변환하여 평균 계산\n",
        "    reg_results.append(rmse)\n",
        "\n",
        "# 결과 데이터프레임 생성\n",
        "reg_re = pd.DataFrame({\"Model\": [type(r).__name__ for r in reg], \"CrossValMeans\": reg_results})\n",
        "\n",
        "# 결과 출력\n",
        "print(reg_re)"
      ],
      "metadata": {
        "id": "9rqtb4sJWSN1",
        "colab": {
          "base_uri": "https://localhost:8080/"
        },
        "outputId": "953fa6d5-3b67-4071-a5c5-088d59db721b"
      },
      "execution_count": 12,
      "outputs": [
        {
          "output_type": "stream",
          "name": "stdout",
          "text": [
            "[LightGBM] [Info] Auto-choosing row-wise multi-threading, the overhead of testing was 0.002128 seconds.\n",
            "You can set `force_row_wise=true` to remove the overhead.\n",
            "And if memory is not enough, you can set `force_col_wise=true`.\n",
            "[LightGBM] [Info] Total Bins 4067\n",
            "[LightGBM] [Info] Number of data points in the train set: 1095, number of used features: 149\n",
            "[LightGBM] [Info] Start training from score 12.031055\n",
            "[LightGBM] [Info] Auto-choosing row-wise multi-threading, the overhead of testing was 0.001133 seconds.\n",
            "You can set `force_row_wise=true` to remove the overhead.\n",
            "And if memory is not enough, you can set `force_col_wise=true`.\n",
            "[LightGBM] [Info] Total Bins 4038\n",
            "[LightGBM] [Info] Number of data points in the train set: 1095, number of used features: 149\n",
            "[LightGBM] [Info] Start training from score 12.012390\n",
            "[LightGBM] [Info] Auto-choosing row-wise multi-threading, the overhead of testing was 0.001135 seconds.\n",
            "You can set `force_row_wise=true` to remove the overhead.\n",
            "And if memory is not enough, you can set `force_col_wise=true`.\n",
            "[LightGBM] [Info] Total Bins 4037\n",
            "[LightGBM] [Info] Number of data points in the train set: 1095, number of used features: 147\n",
            "[LightGBM] [Info] Start training from score 12.033341\n",
            "[LightGBM] [Info] Auto-choosing row-wise multi-threading, the overhead of testing was 0.001242 seconds.\n",
            "You can set `force_row_wise=true` to remove the overhead.\n",
            "And if memory is not enough, you can set `force_col_wise=true`.\n",
            "[LightGBM] [Info] Total Bins 4036\n",
            "[LightGBM] [Info] Number of data points in the train set: 1095, number of used features: 147\n",
            "[LightGBM] [Info] Start training from score 12.019443\n",
            "                       Model  CrossValMeans\n",
            "0                      Lasso       0.399565\n",
            "1                 ElasticNet       0.399565\n",
            "2      RandomForestRegressor       0.138585\n",
            "3  GradientBoostingRegressor       0.126775\n",
            "4               XGBRegressor       0.139013\n",
            "5              LGBMRegressor       0.130008\n"
          ]
        }
      ]
    },
    {
      "cell_type": "code",
      "source": [
        "#from sklearn.model_selection import GridSearchCV\n",
        "\n",
        "#GBC = GradientBoostingRegressor()\n",
        "#gb_param_grid = {'n_estimators' : [100,200,300],\n",
        "#              'learning_rate': [0.1, 0.05, 0.01],\n",
        "#              'max_depth': [4, 8],\n",
        "#              'min_samples_leaf': [100,150],\n",
        "#              'max_features': [0.3, 0.1]\n",
        "#              }\n",
        "#gsGBC = GridSearchCV(GBC,param_grid = gb_param_grid, cv=kfold, scoring=\"neg_mean_squared_error\", n_jobs= 4, verbose = 1)\n",
        "#gsGBC.fit(X_train, target_label)\n",
        "#GBC_best = gsGBC.best_estimator_\n",
        "\n",
        "# 최고 점수\n",
        "#gsGBC.best_score_"
      ],
      "metadata": {
        "id": "d7GcDXqKp9gL"
      },
      "execution_count": 13,
      "outputs": []
    },
    {
      "cell_type": "code",
      "source": [
        "#XGB = XGBRegressor()\n",
        "#xgb_param_grid = {'learning_rate': [1,0.1,0.01,0.001],\n",
        "#              'n_estimators': [50, 100, 200, 500, 1000],\n",
        "#              'max_depth' : [1,3,5,10,50]}\n",
        "#gsXGB = GridSearchCV(XGB,param_grid = xgb_param_grid, cv=kfold, #scoring=\"neg_mean_squared_error\", n_jobs= 4, verbose = 1)\n",
        "#gsXGB.fit(X_train, target_label)\n",
        "#XGB_best = gsXGB.best_estimator_\n",
        "\n",
        "# 최고 점수\n",
        "#gsXGB.best_score_"
      ],
      "metadata": {
        "id": "KKCvffneqMHU"
      },
      "execution_count": 14,
      "outputs": []
    },
    {
      "cell_type": "code",
      "source": [
        "#LGB = LGBMRegressor()\n",
        "#lgb_param_grid = {\n",
        "#    'num_leaves' : [1,5,10],\n",
        "#    'learning_rate': [1,0.1,0.01,0.001],\n",
        "#    'n_estimators': [50, 100, 200, 500, 1000,5000],\n",
        "#    'max_depth': [15,20,25],\n",
        "#    'num_leaves': [50, 100, 200],\n",
        "#    'min_split_gain': [0.3, 0.4],\n",
        "#}\n",
        "#gsLGB = GridSearchCV(LGB,param_grid = lgb_param_grid, cv=kfold, #scoring=\"neg_mean_squared_error\", n_jobs= 4, verbose = 1)\n",
        "#gsLGB.fit(X_train, target_label)\n",
        "#LGB_best = gsLGB.best_estimator_\n",
        "\n",
        "# 최고 점수\n",
        "#gsLGB.best_score_"
      ],
      "metadata": {
        "id": "ufMd3riaqa3q"
      },
      "execution_count": 15,
      "outputs": []
    },
    {
      "cell_type": "code",
      "source": [
        "GBR = GradientBoostingRegressor(learning_rate=0.05, max_depth=8, max_features=0.1,\n",
        "                          min_samples_leaf=100, n_estimators=300).fit(X_train, target_label)\n",
        "XGB = XGBRegressor(learning_rate=0.01, max_depth=3, n_estimators=1000).fit(X_train, target_label)\n",
        "LGB = LGBMRegressor(learning_rate=0.01, max_depth=15, min_split_gain=0.3,\n",
        "              n_estimators=500, num_leaves=50, verbose=-1).fit(X_train, target_label)"
      ],
      "metadata": {
        "id": "tMAYlhJsgjU8"
      },
      "execution_count": 16,
      "outputs": []
    },
    {
      "cell_type": "markdown",
      "source": [
        "# **Ensemble**"
      ],
      "metadata": {
        "id": "7TBQnKBzsDLL"
      }
    },
    {
      "cell_type": "code",
      "source": [
        "test_GBR = pd.Series(GBR.predict(X_test), name=\"GBR\")\n",
        "test_XGB = pd.Series(XGB.predict(X_test), name=\"XGB\")\n",
        "test_LGB = pd.Series(LGB.predict(X_test), name=\"LGB\")\n",
        "\n",
        "ensemble_results = pd.concat([test_GBR, test_XGB, test_LGB],axis=1)\n",
        "g= sns.heatmap(ensemble_results.corr(),annot=True)"
      ],
      "metadata": {
        "colab": {
          "base_uri": "https://localhost:8080/",
          "height": 435
        },
        "id": "5QGW-vkysFoc",
        "outputId": "4c6248b3-da68-4991-c10e-76d843777ad7"
      },
      "execution_count": 17,
      "outputs": [
        {
          "output_type": "display_data",
          "data": {
            "text/plain": [
              "<Figure size 640x480 with 2 Axes>"
            ],
            "image/png": "[encoded data removed]"
          },
          "metadata": {}
        }
      ]
    },
    {
      "cell_type": "code",
      "source": [
        "ensemble = np.expm1(0.1*test_GBR + 0.8*test_XGB + 0.1*test_LGB)\n",
        "submission = pd.read_csv('/content/drive/My Drive/house_prices/sample_submission.csv')\n",
        "submission['SalePrice'] = ensemble\n",
        "submission.to_csv('./ensemble_answer.csv', index=False)"
      ],
      "metadata": {
        "id": "QoTf0XnzsvcG"
      },
      "execution_count": 18,
      "outputs": []
    },
    {
      "cell_type": "code",
      "source": [
        "from sklearn.ensemble import VotingRegressor\n",
        "\n",
        "votingC = VotingRegressor(estimators=[('GBR',GBR), ('XGB', XGB), ('LGB', LGB)], n_jobs=-1)\n",
        "votingC = votingC.fit(X_train, target_label)\n",
        "vote = pd.Series(votingC.predict(X_test))\n",
        "submission = pd.read_csv('/content/drive/My Drive/house_prices/sample_submission.csv')\n",
        "submission['SalePrice'] = vote\n",
        "submission.to_csv('./vote_answer.csv', index=False)"
      ],
      "metadata": {
        "id": "16QNhhQmuf9Y"
      },
      "execution_count": 19,
      "outputs": []
    },
    {
      "cell_type": "code",
      "source": [
        "from mlxtend.regressor import StackingRegressor\n",
        "from sklearn.linear_model import LogisticRegression\n",
        "\n",
        "params = {'meta_regressor__C': [0.1, 1.0, 10.0, 100.0],\n",
        "          'use_features_in_secondary' : [True, False]}\n",
        "\n",
        "clf1 = GBR\n",
        "clf2 = XGB\n",
        "clf3 = LGB\n",
        "\n",
        "lr = LogisticRegression()\n",
        "sr =  StackingRegressor(regressors=[clf1, clf2, clf3], meta_regressor=RandomForestRegressor())\n",
        "stacking = sr.fit(X_train, target_label)\n",
        "stack = stacking.predict(X_test)\n",
        "\n",
        "submission = pd.read_csv('/content/drive/My Drive/house_prices/sample_submission.csv')\n",
        "submission['SalePrice'] = stack\n",
        "submission.to_csv('./stack_answer.csv', index=False)"
      ],
      "metadata": {
        "id": "yaaxZXyivTOF"
      },
      "execution_count": 20,
      "outputs": []
    },
    {
      "cell_type": "code",
      "source": [
        "from sklearn.linear_model import ElasticNetCV, LassoCV, RidgeCV\n",
        "from sklearn.pipeline import make_pipeline\n",
        "from sklearn.svm import SVR\n",
        "from mlxtend.regressor import StackingCVRegressor\n",
        "\n",
        "kfolds = KFold(n_splits=10, shuffle=True, random_state=42)\n",
        "\n",
        "alphas_ridge = [14.5, 14.6, 14.7, 14.8, 14.9, 15, 15.1, 15.2, 15.3, 15.4, 15.5]\n",
        "alphas_lasso = [5e-05, 0.0001, 0.0002, 0.0003, 0.0004, 0.0005, 0.0006, 0.0007, 0.0008]\n",
        "alphas_enect = [0.0001, 0.0002, 0.0003, 0.0004, 0.0005, 0.0006, 0.0007]\n",
        "enect_l1ratio = [0.8, 0.85, 0.9, 0.95, 0.99, 1]\n",
        "\n",
        "ridge = make_pipeline(RobustScaler(),\n",
        "                      RidgeCV(alphas=alphas_ridge, cv=kfolds))\n",
        "lasso = make_pipeline(RobustScaler(),\n",
        "                      LassoCV(max_iter=10000000, alphas=alphas_lasso,\n",
        "                              random_state=2, cv=kfolds))\n",
        "enet = make_pipeline(RobustScaler(),\n",
        "                           ElasticNetCV(max_iter=10000000, alphas=alphas_enect,\n",
        "                                        cv=kfolds, l1_ratio=enect_l1ratio))\n",
        "svr = make_pipeline(RobustScaler(),\n",
        "                      SVR(C= 20, epsilon= 0.008, gamma=0.0003,))\n",
        "\n",
        "stack_gen = StackingCVRegressor(regressors=(ridge, lasso, enet,\n",
        "                                            GBR, XGB, LGB),\n",
        "                                meta_regressor=XGB,\n",
        "                                use_features_in_secondary=True)"
      ],
      "metadata": {
        "id": "oO6-TohexOsY"
      },
      "execution_count": 21,
      "outputs": []
    },
    {
      "cell_type": "code",
      "source": [
        "stack_gen_model = stack_gen.fit(np.array(X_train), np.array(target_label))\n",
        "elastic_model = enet.fit(X_train, target_label)\n",
        "lasso_model = lasso.fit(X_train, target_label)\n",
        "ridge_model = ridge.fit(X_train, target_label)\n",
        "svr_model = svr.fit(X_train, target_label)\n",
        "gbr_model = GBR.fit(X_train, target_label)\n",
        "xgb_model = XGB.fit(X_train, target_label)\n",
        "lgb_model = LGB.fit(X_train, target_label)"
      ],
      "metadata": {
        "id": "ujtlKx18zKza"
      },
      "execution_count": 22,
      "outputs": []
    },
    {
      "cell_type": "code",
      "source": [
        "def blend_models_predict(X):\n",
        "    return ((0.1 * elastic_model.predict(X)) + \\\n",
        "            (0.1 * lasso_model.predict(X)) + \\\n",
        "            (0.1 * ridge_model.predict(X)) + \\\n",
        "            (0.1 * svr_model.predict(X)) + \\\n",
        "            (0.1 * gbr_model.predict(X)) + \\\n",
        "            (0.15 * xgb_model.predict(X)) + \\\n",
        "            (0.1 * lgb_model.predict(X)) + \\\n",
        "            (0.25 * stack_gen_model.predict(np.array(X))))"
      ],
      "metadata": {
        "id": "wP25m_ef0iqm"
      },
      "execution_count": 23,
      "outputs": []
    },
    {
      "cell_type": "code",
      "source": [
        "blend = np.floor(np.expm1(blend_models_predict(X_test)))\n",
        "submission = pd.read_csv('/content/drive/My Drive/house_prices/sample_submission.csv')\n",
        "submission['SalePrice'] = blend\n",
        "submission.to_csv('./blend_answer.csv', index=False)"
      ],
      "metadata": {
        "id": "deQDJdrUoXOx"
      },
      "execution_count": 24,
      "outputs": []
    }
  ]
}