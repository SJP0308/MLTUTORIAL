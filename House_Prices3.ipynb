{
  "nbformat": 4,
  "nbformat_minor": 0,
  "metadata": {
    "colab": {
      "provenance": [],
      "collapsed_sections": [
        "-pkJ42Xks-ic"
      ],
      "include_colab_link": true
    },
    "kernelspec": {
      "name": "python3",
      "display_name": "Python 3"
    },
    "language_info": {
      "name": "python"
    }
  },
  "cells": [
    {
      "cell_type": "markdown",
      "metadata": {
        "id": "view-in-github",
        "colab_type": "text"
      },
      "source": [
        "<a href=\"https://colab.research.google.com/github/SJP0308/MLTUTORIAL/blob/House-Prices/House_Prices3.ipynb\" target=\"_parent\"><img src=\"https://colab.research.google.com/assets/colab-badge.svg\" alt=\"Open In Colab\"/></a>"
      ]
    },
    {
      "cell_type": "markdown",
      "source": [
        "# **Define Problem**"
      ],
      "metadata": {
        "id": "-pkJ42Xks-ic"
      }
    },
    {
      "cell_type": "markdown",
      "source": [
        "**It is your job to predict the sales price for each house.** For each Id in the test set, you must predict the value of the SalePrice variable."
      ],
      "metadata": {
        "id": "t4YQ0dNetB4Z"
      }
    },
    {
      "cell_type": "markdown",
      "source": [
        "# **Evaluation**"
      ],
      "metadata": {
        "id": "CMKks8p9tB7J"
      }
    },
    {
      "cell_type": "markdown",
      "source": [
        "**Submissions are evaluated on Root-Mean-Squared-Error (RMSE)** between the logarithm of the predicted value and the logarithm of the observed sales price. (Taking logs means that errors in predicting expensive houses and cheap houses will affect the result equally.)"
      ],
      "metadata": {
        "id": "gmUAXknNtB97"
      }
    },
    {
      "cell_type": "markdown",
      "source": [
        "# **Download**"
      ],
      "metadata": {
        "id": "qt7_3TSRtCAX"
      }
    },
    {
      "cell_type": "code",
      "execution_count": 1,
      "metadata": {
        "id": "c2pbU9GotVk2"
      },
      "outputs": [],
      "source": [
        "import numpy as np\n",
        "import pandas as pd\n",
        "import matplotlib.pyplot as plt\n",
        "import seaborn as sns\n",
        "\n",
        "import warnings\n",
        "# 경고 메시지를 무시하도록 설정\n",
        "warnings.filterwarnings('ignore')\n",
        "\n",
        "# 플롯을 인라인으로 표시하도록 설정\n",
        "%matplotlib inline"
      ]
    },
    {
      "cell_type": "code",
      "source": [
        "# 데이터셋 다운로드\n",
        "def download_dataset(datafile_name):\n",
        "  from google.colab import drive\n",
        "  drive.mount('/content/drive')\n",
        "  path = f'/content/drive/My Drive/{datafile_name}'\n",
        "  train_df = pd.read_csv(f'{path}/train.csv')\n",
        "  test_df = pd.read_csv(f'{path}/test.csv')\n",
        "  print('데이터 다운로드 완료!')\n",
        "  return pd.concat([train_df, test_df], ignore_index=True)"
      ],
      "metadata": {
        "id": "WeoEnrpArvCb"
      },
      "execution_count": 2,
      "outputs": []
    },
    {
      "cell_type": "code",
      "source": [
        "df = download_dataset('house_prices')"
      ],
      "metadata": {
        "colab": {
          "base_uri": "https://localhost:8080/"
        },
        "id": "7X04VE7GWIYo",
        "outputId": "8a78c4dd-0be3-48dd-9b69-1c5800af7203"
      },
      "execution_count": 3,
      "outputs": [
        {
          "output_type": "stream",
          "name": "stdout",
          "text": [
            "Drive already mounted at /content/drive; to attempt to forcibly remount, call drive.mount(\"/content/drive\", force_remount=True).\n",
            "데이터 다운로드 완료!\n"
          ]
        }
      ]
    },
    {
      "cell_type": "markdown",
      "source": [
        "# **Features**"
      ],
      "metadata": {
        "id": "EUrPDoDjW5rt"
      }
    },
    {
      "cell_type": "code",
      "source": [
        "# groupby로 결측치 채우기\n",
        "def fill_null_by_group(df, group_col, target_col):\n",
        "  return df[target_col].fillna(df.groupby(group_col)[target_col].transform(lambda x: x.mode()[0] if not x.mode().empty\n",
        "                                                                           else df[target_col].mode()[0]))"
      ],
      "metadata": {
        "id": "IRz8G4GJr0I2"
      },
      "execution_count": 4,
      "outputs": []
    },
    {
      "cell_type": "code",
      "source": [
        "for col in ['Alley', 'MasVnrType', 'BsmtQual', 'BsmtCond', 'BsmtExposure', 'BsmtFinType1', 'BsmtFinType2', 'FireplaceQu',\n",
        "            'GarageType', 'GarageFinish', 'GarageQual', 'GarageCond', 'PoolQC', 'Fence', 'MiscFeature']:\n",
        "            df[col] = df[col].fillna('None')\n",
        "\n",
        "for col in ['MasVnrArea', 'BsmtFinSF1', 'BsmtFinSF2', 'BsmtUnfSF', 'TotalBsmtSF', 'BsmtFullBath', 'BsmtHalfBath']:\n",
        "  df[col] = df[col].fillna(0)\n",
        "\n",
        "groupby = {'Neighborhood': ['MSZoning', 'LotFrontage', 'Exterior1st', 'Exterior2nd', 'Electrical'],\n",
        "           'KitchenAbvGr': ['KitchenQual'],\n",
        "           'GarageType': ['GarageYrBlt', 'GarageCars', 'GarageArea']}\n",
        "for key, group in groupby.items():\n",
        "  for col in group:\n",
        "    df[col] = fill_null_by_group(df, key, col)\n",
        "\n",
        "df['SaleType'] = df['SaleType'].fillna(df['SaleType'].mode()[0])\n",
        "df[\"Functional\"] = df[\"Functional\"].fillna(\"Typ\")\n",
        "df.drop(['Id'], axis=1, inplace=True)\n",
        "df.drop(['Utilities'], axis=1, inplace=True)\n",
        "\n",
        "for col in ['MSSubClass', 'YrSold', 'MoSold']:\n",
        "  df[col] = df[col].apply(str)"
      ],
      "metadata": {
        "id": "NIe4_euWJUws"
      },
      "execution_count": 5,
      "outputs": []
    },
    {
      "cell_type": "code",
      "source": [
        "df = df.drop(df[(df['GrLivArea']>4000) & (df['SalePrice']<2.60)].index)\n",
        "df.reset_index(drop=True, inplace=True)\n",
        "df['SalePrice'] = np.log1p(df.SalePrice)"
      ],
      "metadata": {
        "id": "brz8LmGeZ_mc"
      },
      "execution_count": 6,
      "outputs": []
    },
    {
      "cell_type": "markdown",
      "source": [
        "# **Data processing**"
      ],
      "metadata": {
        "id": "O7B4zpaPXRp8"
      }
    },
    {
      "cell_type": "code",
      "source": [
        "# 스피어맨 인코딩\n",
        "def Spearman_encode(df, feature):\n",
        "    ordering = df.groupby(feature)['SalePrice'].mean().sort_values().reset_index()\n",
        "    ordering['ordering'] = range(1, len(ordering)+1)\n",
        "    df[feature] = df[feature].map(dict(zip(ordering[feature], ordering['ordering'])))\n",
        "    return df"
      ],
      "metadata": {
        "id": "Q5gvFo1yXS4W"
      },
      "execution_count": 7,
      "outputs": []
    },
    {
      "cell_type": "code",
      "source": [
        "qualitative = df.select_dtypes(include='object')\n",
        "\n",
        "for col in qualitative:\n",
        "  df = Spearman_encode(df, col)"
      ],
      "metadata": {
        "id": "6-VZrjHIXS64"
      },
      "execution_count": 8,
      "outputs": []
    },
    {
      "cell_type": "code",
      "source": [
        "from scipy.stats import skew\n",
        "from scipy.special import boxcox1p\n",
        "from scipy.stats import boxcox_normmax\n",
        "\n",
        "quantitative = df.select_dtypes(include='number').columns[:-1]\n",
        "high_skew = quantitative[df[quantitative].apply(lambda x: skew(x)) > 0.5]\n",
        "for col in high_skew:\n",
        "    try:\n",
        "        df[col] = boxcox1p(df[col], boxcox_normmax(df[col]+1))\n",
        "    except:\n",
        "        df[col] = np.log1p(df[col])"
      ],
      "metadata": {
        "id": "deOX2mG_A0KP"
      },
      "execution_count": 9,
      "outputs": []
    },
    {
      "cell_type": "code",
      "source": [
        "df['YrBltAndRemod'] = df['YearBuilt'] + df['YearRemodAdd']\n",
        "df['TotalSF'] = df['TotalBsmtSF'] + df['1stFlrSF'] + df['2ndFlrSF']\n",
        "df['Total_sqr_footage'] = df['BsmtFinSF1'] + df['BsmtFinSF2'] + df['1stFlrSF'] + df['2ndFlrSF']\n",
        "df['Total_Bathrooms'] = df['FullBath'] + (0.5*df['HalfBath']) + df['BsmtFullBath'] + (0.5*df['BsmtHalfBath'])\n",
        "df['Total_porch_sf'] = df['OpenPorchSF'] + df['3SsnPorch'] + df['EnclosedPorch'] + df['ScreenPorch'] + df['WoodDeckSF']\n",
        "\n",
        "df['haspool'] = df['PoolArea'].apply(lambda x: 1 if x > 0 else 0)\n",
        "df['has2ndfloor'] = df['2ndFlrSF'].apply(lambda x: 1 if x > 0 else 0)\n",
        "df['hasgarage'] = df['GarageArea'].apply(lambda x: 1 if x > 0 else 0)\n",
        "df['hasbsmt'] = df['TotalBsmtSF'].apply(lambda x: 1 if x > 0 else 0)\n",
        "df['hasfireplace'] = df['Fireplaces'].apply(lambda x: 1 if x > 0 else 0)\n",
        "\n",
        "df = pd.get_dummies(df).reset_index(drop=True)"
      ],
      "metadata": {
        "id": "XEeMZAFDZlXI"
      },
      "execution_count": 10,
      "outputs": []
    },
    {
      "cell_type": "code",
      "source": [
        "from sklearn.preprocessing import RobustScaler\n",
        "\n",
        "rbst_scaler=RobustScaler()\n",
        "X_train = rbst_scaler.fit_transform(df[df['SalePrice'].notnull()].drop('SalePrice', axis=1).values)\n",
        "X_test = rbst_scaler.transform(df[df['SalePrice'].isnull()].drop('SalePrice', axis=1).values)\n",
        "target_label = df[df['SalePrice'].notnull()]['SalePrice'].values"
      ],
      "metadata": {
        "id": "MLDN-OHtZ1Jh"
      },
      "execution_count": 11,
      "outputs": []
    },
    {
      "cell_type": "markdown",
      "source": [
        "# **Model**"
      ],
      "metadata": {
        "id": "Dpf_vSr6Qe1N"
      }
    },
    {
      "cell_type": "markdown",
      "source": [
        "```\n",
        "pip install -q optuna\n",
        "```"
      ],
      "metadata": {
        "id": "1_irW5QKdV8m"
      }
    },
    {
      "cell_type": "markdown",
      "source": [
        "```\n",
        "from sklearn.model_selection import KFold\n",
        "from sklearn.ensemble import GradientBoostingRegressor\n",
        "from sklearn.metrics import mean_squared_error\n",
        "import optuna\n",
        "from optuna.samplers import TPESampler\n",
        "\n",
        "cv = KFold(n_splits=5, shuffle=True, random_state=42)\n",
        "\n",
        "def objective(trial, X, y):\n",
        "    param = {\n",
        "        'n_estimators': trial.suggest_int('n_estimators', 50, 500),\n",
        "        'max_depth': trial.suggest_int('max_depth', 3, 10),\n",
        "        'learning_rate': trial.suggest_loguniform('learning_rate', 1e-3, 1),\n",
        "        'subsample': trial.suggest_uniform('subsample', 0.5, 1.0),\n",
        "        'min_samples_split': trial.suggest_int('min_samples_split', 2, 10),\n",
        "        'min_samples_leaf': trial.suggest_int('min_samples_leaf', 1, 10)\n",
        "    }\n",
        "    \n",
        "    cv_scores = []  \n",
        "    \n",
        "    for train_idx, val_idx in cv.split(X, y):\n",
        "        X_train, X_val = X[train_idx], X[val_idx]  \n",
        "        y_train, y_val = y[train_idx], y[val_idx]  \n",
        "        \n",
        "        model = GradientBoostingRegressor(**param, random_state=42)\n",
        "        model.fit(X_train, y_train)\n",
        "        y_pred = model.predict(X_val)\n",
        "        rmse = mean_squared_error(y_val, y_pred, squared=False)\n",
        "        cv_scores.append(rmse)\n",
        "\n",
        "    return np.mean(cv_scores)\n",
        "\n",
        "study = optuna.create_study(study_name='GradientBoostingRegressor_KFold', direction='minimize', sampler=TPESampler(seed=42))\n",
        "study.optimize(lambda trial: objective(trial, X_train, target_label), n_trials=100)\n",
        "\n",
        "print()\n",
        "print(\"Best Score (RMSE):\", study.best_value)\n",
        "print(\"Best trial:\", study.best_trial.params)\n",
        "```\n",
        "\n",
        "Best Score (RMSE): 0.12405450783607379\n",
        "\n",
        "Best trial: {'n_estimators': 357, 'max_depth': 3, 'learning_rate': 0.058789251728333054, 'subsample': 0.7672132168417385, 'min_samples_split': 4, 'min_samples_leaf': 3}"
      ],
      "metadata": {
        "id": "oF4xcQ1BfAuD"
      }
    },
    {
      "cell_type": "markdown",
      "source": [
        "```\n",
        "from sklearn.model_selection import KFold\n",
        "from xgboost import XGBRegressor\n",
        "from sklearn.metrics import mean_squared_error\n",
        "import optuna\n",
        "from optuna.samplers import TPESampler\n",
        "\n",
        "cv = KFold(n_splits=5, shuffle=True, random_state=84)\n",
        "\n",
        "def objective(trial, X, y):\n",
        "    param = {\n",
        "        'verbosity': 0,\n",
        "        'objective': 'reg:squarederror',  \n",
        "        'n_estimators': trial.suggest_int('n_estimators', 50, 500),\n",
        "        'max_depth': trial.suggest_int('max_depth', 3, 10),\n",
        "        'learning_rate': trial.suggest_loguniform('learning_rate', 1e-3, 1),\n",
        "        'subsample': trial.suggest_uniform('subsample', 0.5, 1.0),\n",
        "        'colsample_bytree': trial.suggest_uniform('colsample_bytree', 0.5, 1.0),\n",
        "        'gamma': trial.suggest_float('gamma', 0, 5)\n",
        "    }\n",
        "    \n",
        "    cv_scores = []  \n",
        "    \n",
        "    for train_idx, val_idx in cv.split(X, y):\n",
        "        X_train, X_val = X[train_idx], X[val_idx]  \n",
        "        y_train, y_val = y[train_idx], y[val_idx]  \n",
        "        \n",
        "        model = XGBRegressor(**param, random_state=84)\n",
        "        model.fit(X_train, y_train)\n",
        "        y_pred = model.predict(X_val)\n",
        "        rmse = mean_squared_error(y_val, y_pred, squared=False)\n",
        "        cv_scores.append(rmse)\n",
        "\n",
        "    return np.mean(cv_scores)\n",
        "\n",
        "study = optuna.create_study(study_name='XGBRegressor_KFold', direction='minimize', sampler=TPESampler(seed=84))\n",
        "study.optimize(lambda trial: objective(trial, X_train, target_label), n_trials=100)\n",
        "\n",
        "print()\n",
        "print(\"Best Score (RMSE):\", study.best_value)\n",
        "print(\"Best trial:\", study.best_trial.params)\n",
        "```\n",
        "\n",
        "Best Score (RMSE): 0.12356110332037154\n",
        "\n",
        "Best trial: {'n_estimators': 416, 'max_depth': 6, 'learning_rate': 0.033282432310440334, 'subsample': 0.8254858262956372, 'colsample_bytree': 0.9157884273317746, 'gamma': 0.001668907747602897}"
      ],
      "metadata": {
        "id": "nJhF8896dfFN"
      }
    },
    {
      "cell_type": "markdown",
      "source": [
        "```\n",
        "from sklearn.model_selection import KFold\n",
        "from lightgbm import LGBMRegressor\n",
        "from sklearn.metrics import mean_squared_error\n",
        "import optuna\n",
        "from optuna.samplers import TPESampler\n",
        "\n",
        "cv = KFold(n_splits=5, shuffle=True, random_state=126)\n",
        "\n",
        "def objective(trial, X, y):\n",
        "    param = {\n",
        "        'n_estimators': trial.suggest_int('n_estimators', 50, 500),\n",
        "        'max_depth': trial.suggest_int('max_depth', -1, 10),\n",
        "        'learning_rate': trial.suggest_loguniform('learning_rate', 1e-3, 1),\n",
        "        'subsample': trial.suggest_uniform('subsample', 0.5, 1.0),\n",
        "        'colsample_bytree': trial.suggest_uniform('colsample_bytree', 0.5, 1.0),\n",
        "        'min_child_samples': trial.suggest_int('min_child_samples', 1, 20)\n",
        "    }\n",
        "    \n",
        "    cv_scores = []  \n",
        "    \n",
        "    for train_idx, val_idx in cv.split(X, y):\n",
        "        X_train, X_val = X[train_idx], X[val_idx]  \n",
        "        y_train, y_val = y[train_idx], y[val_idx]  \n",
        "        \n",
        "        model = LGBMRegressor(**param, verbosity=-1, random_state=126)\n",
        "        model.fit(X_train, y_train)\n",
        "        y_pred = model.predict(X_val)\n",
        "        rmse = mean_squared_error(y_val, y_pred, squared=False)\n",
        "        cv_scores.append(rmse)\n",
        "\n",
        "    return np.mean(cv_scores)\n",
        "\n",
        "study = optuna.create_study(study_name='LGBMRegressor_KFold', direction='minimize', sampler=TPESampler(seed=126))\n",
        "study.optimize(lambda trial: objective(trial, X_train, target_label), n_trials=100)\n",
        "\n",
        "print()\n",
        "print(\"Best Score (RMSE):\", study.best_value)\n",
        "print(\"Best trial:\", study.best_trial.params)\n",
        "```\n",
        "\n",
        "Best Score (RMSE): 0.11877221440508838\n",
        "\n",
        "Best trial: {'n_estimators': 476, 'max_depth': 3, 'learning_rate': 0.08575242754533631, 'subsample': 0.5828043279150275, 'colsample_bytree': 0.8264573049966885, 'min_child_samples': 3}"
      ],
      "metadata": {
        "id": "9rqtb4sJWSN1"
      }
    },
    {
      "cell_type": "code",
      "source": [
        "from sklearn.ensemble import GradientBoostingRegressor\n",
        "from xgboost import XGBRegressor\n",
        "from lightgbm import LGBMRegressor\n",
        "\n",
        "gbr_param = {'n_estimators': 357, 'max_depth': 3, 'learning_rate': 0.058789251728333054, 'subsample': 0.7672132168417385,\n",
        "             'min_samples_split': 4, 'min_samples_leaf': 3}\n",
        "xgb_param = {'n_estimators': 416, 'max_depth': 6, 'learning_rate': 0.033282432310440334, 'subsample': 0.8254858262956372,\n",
        "             'colsample_bytree': 0.9157884273317746, 'gamma': 0.001668907747602897}\n",
        "lgb_param = {'n_estimators': 476, 'max_depth': 3, 'learning_rate': 0.08575242754533631, 'subsample': 0.5828043279150275,\n",
        "             'colsample_bytree': 0.8264573049966885, 'min_child_samples': 3}\n",
        "\n",
        "GBR = GradientBoostingRegressor(**gbr_param, random_state=42).fit(X_train, target_label)\n",
        "XGB = XGBRegressor(**xgb_param, random_state=84).fit(X_train, target_label)\n",
        "LGB = LGBMRegressor(**lgb_param, verbose=-1, random_state=126).fit(X_train, target_label)"
      ],
      "metadata": {
        "id": "tMAYlhJsgjU8"
      },
      "execution_count": 12,
      "outputs": []
    },
    {
      "cell_type": "markdown",
      "source": [
        "# **Ensemble**"
      ],
      "metadata": {
        "id": "7TBQnKBzsDLL"
      }
    },
    {
      "cell_type": "code",
      "source": [
        "test_GBR = pd.Series(GBR.predict(X_test), name=\"GBR\")\n",
        "test_XGB = pd.Series(XGB.predict(X_test), name=\"XGB\")\n",
        "test_LGB = pd.Series(LGB.predict(X_test), name=\"LGB\")\n",
        "\n",
        "ensemble_results = pd.concat([test_GBR, test_XGB, test_LGB],axis=1)\n",
        "g= sns.heatmap(ensemble_results.corr(),annot=True)"
      ],
      "metadata": {
        "colab": {
          "base_uri": "https://localhost:8080/",
          "height": 435
        },
        "id": "5QGW-vkysFoc",
        "outputId": "904742d3-8ab0-4239-dd2a-2219947594ea"
      },
      "execution_count": 13,
      "outputs": [
        {
          "output_type": "display_data",
          "data": {
            "text/plain": [
              "<Figure size 640x480 with 2 Axes>"
            ],
            "image/png": "[encoded data removed]"
          },
          "metadata": {}
        }
      ]
    },
    {
      "cell_type": "code",
      "source": [
        "ensemble = np.expm1(0.3*test_GBR + 0.3*test_XGB + 0.4*test_LGB)\n",
        "submission = pd.read_csv('/content/drive/My Drive/house_prices/sample_submission.csv')\n",
        "submission['SalePrice'] = ensemble\n",
        "submission.to_csv('./ensemble_answer.csv', index=False)"
      ],
      "metadata": {
        "id": "QoTf0XnzsvcG"
      },
      "execution_count": 14,
      "outputs": []
    },
    {
      "cell_type": "code",
      "source": [
        "from sklearn.ensemble import VotingRegressor\n",
        "\n",
        "votingC = VotingRegressor(estimators=[('GBR',GBR), ('XGB', XGB), ('LGB', LGB)], n_jobs=-1)\n",
        "votingC = votingC.fit(X_train, target_label)\n",
        "vote = pd.Series(votingC.predict(X_test))\n",
        "submission = pd.read_csv('/content/drive/My Drive/house_prices/sample_submission.csv')\n",
        "submission['SalePrice'] = vote\n",
        "submission.to_csv('./vote_answer.csv', index=False)"
      ],
      "metadata": {
        "id": "16QNhhQmuf9Y"
      },
      "execution_count": 15,
      "outputs": []
    },
    {
      "cell_type": "code",
      "source": [
        "from mlxtend.regressor import StackingRegressor\n",
        "from sklearn.ensemble import RandomForestRegressor\n",
        "\n",
        "clf1 = GBR\n",
        "clf2 = XGB\n",
        "clf3 = LGB\n",
        "\n",
        "sr =  StackingRegressor(regressors=[clf1, clf2, clf3], meta_regressor=RandomForestRegressor())\n",
        "stacking = sr.fit(X_train, target_label)\n",
        "stack = stacking.predict(X_test)\n",
        "\n",
        "submission = pd.read_csv('/content/drive/My Drive/house_prices/sample_submission.csv')\n",
        "submission['SalePrice'] = stack\n",
        "submission.to_csv('./stack_answer.csv', index=False)"
      ],
      "metadata": {
        "id": "yaaxZXyivTOF"
      },
      "execution_count": 16,
      "outputs": []
    },
    {
      "cell_type": "code",
      "source": [
        "from sklearn.model_selection import KFold\n",
        "from sklearn.linear_model import ElasticNetCV, LassoCV, RidgeCV\n",
        "from sklearn.pipeline import make_pipeline\n",
        "from sklearn.svm import SVR\n",
        "from mlxtend.regressor import StackingCVRegressor\n",
        "\n",
        "kfolds = KFold(n_splits=10, shuffle=True, random_state=42)\n",
        "\n",
        "alphas_ridge = [14.5, 14.6, 14.7, 14.8, 14.9, 15, 15.1, 15.2, 15.3, 15.4, 15.5]\n",
        "alphas_lasso = [5e-05, 0.0001, 0.0002, 0.0003, 0.0004, 0.0005, 0.0006, 0.0007, 0.0008]\n",
        "alphas_enect = [0.0001, 0.0002, 0.0003, 0.0004, 0.0005, 0.0006, 0.0007]\n",
        "enect_l1ratio = [0.8, 0.85, 0.9, 0.95, 0.99, 1]\n",
        "\n",
        "ridge = make_pipeline(RobustScaler(),\n",
        "                      RidgeCV(alphas=alphas_ridge, cv=kfolds))\n",
        "lasso = make_pipeline(RobustScaler(),\n",
        "                      LassoCV(max_iter=10000000, alphas=alphas_lasso,\n",
        "                              random_state=2, cv=kfolds))\n",
        "enet = make_pipeline(RobustScaler(),\n",
        "                           ElasticNetCV(max_iter=10000000, alphas=alphas_enect,\n",
        "                                        cv=kfolds, l1_ratio=enect_l1ratio))\n",
        "svr = make_pipeline(RobustScaler(),\n",
        "                      SVR(C= 20, epsilon= 0.008, gamma=0.0003,))\n",
        "stack_gen = StackingCVRegressor(regressors=(ridge, lasso, enet,\n",
        "                                            GBR, XGB, LGB),\n",
        "                                meta_regressor=XGB,\n",
        "                                use_features_in_secondary=True)\n",
        "\n",
        "stack_gen_model = stack_gen.fit(np.array(X_train), np.array(target_label))\n",
        "elastic_model = enet.fit(X_train, target_label)\n",
        "lasso_model = lasso.fit(X_train, target_label)\n",
        "ridge_model = ridge.fit(X_train, target_label)\n",
        "svr_model = svr.fit(X_train, target_label)\n",
        "gbr_model = GBR.fit(X_train, target_label)\n",
        "xgb_model = XGB.fit(X_train, target_label)\n",
        "lgb_model = LGB.fit(X_train, target_label)\n",
        "\n",
        "def blend_models_predict(X):\n",
        "    return ((0.1 * elastic_model.predict(X)) + \\\n",
        "            (0.1 * lasso_model.predict(X)) + \\\n",
        "            (0.1 * ridge_model.predict(X)) + \\\n",
        "            (0.1 * svr_model.predict(X)) + \\\n",
        "            (0.1 * gbr_model.predict(X)) + \\\n",
        "            (0.15 * xgb_model.predict(X)) + \\\n",
        "            (0.1 * lgb_model.predict(X)) + \\\n",
        "            (0.25 * stack_gen_model.predict(np.array(X))))\n",
        "\n",
        "blend = np.floor(np.expm1(blend_models_predict(X_test)))\n",
        "submission = pd.read_csv('/content/drive/My Drive/house_prices/sample_submission.csv')\n",
        "submission['SalePrice'] = blend\n",
        "submission.to_csv('./blend_answer.csv', index=False)"
      ],
      "metadata": {
        "id": "oO6-TohexOsY"
      },
      "execution_count": 17,
      "outputs": []
    }
  ]
}