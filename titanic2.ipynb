{
  "nbformat": 4,
  "nbformat_minor": 0,
  "metadata": {
    "colab": {
      "provenance": [],
      "authorship_tag": "ABX9TyPlN27ox/+EfNrWM8LxdJS4",
      "include_colab_link": true
    },
    "kernelspec": {
      "name": "python3",
      "display_name": "Python 3"
    },
    "language_info": {
      "name": "python"
    }
  },
  "cells": [
    {
      "cell_type": "markdown",
      "metadata": {
        "id": "view-in-github",
        "colab_type": "text"
      },
      "source": [
        "<a href=\"https://colab.research.google.com/github/SJP0308/MLTUTORIAL/blob/titanic/titanic2.ipynb\" target=\"_parent\"><img src=\"https://colab.research.google.com/assets/colab-badge.svg\" alt=\"Open In Colab\"/></a>"
      ]
    },
    {
      "cell_type": "code",
      "execution_count": 1,
      "metadata": {
        "id": "nHKK70dzE3wP"
      },
      "outputs": [],
      "source": [
        "import numpy as np\n",
        "import pandas as pd\n",
        "import matplotlib.pyplot as plt\n",
        "\n",
        "import warnings\n",
        "# 경고 메시지를 무시하도록 설정\n",
        "warnings.filterwarnings('ignore')\n",
        "\n",
        "# 플롯을 인라인으로 표시하도록 설정\n",
        "%matplotlib inline"
      ]
    },
    {
      "cell_type": "code",
      "source": [
        "from google.colab import drive\n",
        "\n",
        "drive.mount('/content/drive')\n",
        "train_data = pd.read_csv('/content/drive/My Drive/titanic/train.csv')\n",
        "test_data = pd.read_csv('/content/drive/My Drive/titanic/test.csv')\n",
        "\n",
        "train_df = pd.DataFrame(train_data)\n",
        "test_df = pd.DataFrame(test_data)"
      ],
      "metadata": {
        "id": "Lv0Un3k2rsvp",
        "colab": {
          "base_uri": "https://localhost:8080/"
        },
        "outputId": "df6cf188-98e0-4eb3-9915-842487551c7a"
      },
      "execution_count": 2,
      "outputs": [
        {
          "output_type": "stream",
          "name": "stdout",
          "text": [
            "Drive already mounted at /content/drive; to attempt to forcibly remount, call drive.mount(\"/content/drive\", force_remount=True).\n"
          ]
        }
      ]
    },
    {
      "cell_type": "markdown",
      "source": [
        "# **특성 공학**"
      ],
      "metadata": {
        "id": "C2sfGuIFv00S"
      }
    },
    {
      "cell_type": "code",
      "source": [
        "def fill_age_with_mean(age, title):\n",
        "    if pd.isnull(age):\n",
        "        mean_age = {'Master': 4, 'Miss': 21, 'Mr': 33, 'Mrs':35}\n",
        "        return mean_age.get(title, age)\n",
        "    return age\n",
        "\n",
        "def extract_age_group(age):\n",
        "    if pd.notnull(age):\n",
        "        return int((age-0.01)//10)\n",
        "\n",
        "def fill_fare_with_train_mean(fare, Pclass):\n",
        "    if pd.isnull(fare):\n",
        "        mean_fares = {1: 84.15, 2: 20.66, 3: 13.68}\n",
        "        return mean_fares.get(Pclass, fare)\n",
        "    return round(fare, 2)\n",
        "\n",
        "def fill_fare_with_test_mean(fare, Pclass):\n",
        "    if pd.isnull(fare):\n",
        "        mean_fares = {1: 94.28, 2: 22.20, 3: 12.46}\n",
        "        return mean_fares.get(Pclass, fare)\n",
        "    return round(fare, 2)\n",
        "\n",
        "title_mapping = {'Mlle': 'Miss', 'Mme': 'Mrs', 'Ms': 'Miss', 'Dr': 'Mr', 'Major': 'Mr', 'Lady': 'Mrs',\n",
        "    'Countess': 'Mrs', 'Jonkheer': 'Mr', 'Col': 'Mr', 'Rev': 'Mr', 'Capt': 'Mr', 'Sir': 'Mr',\n",
        "    'Don': 'Mr', 'Dona': 'Mrs'}"
      ],
      "metadata": {
        "id": "u7BEG4MGsLPQ"
      },
      "execution_count": 3,
      "outputs": []
    },
    {
      "cell_type": "code",
      "source": [
        "train_df['Title'] = train_df['Name'].str.extract(' ([A-Z][a-z]+)\\.')\n",
        "test_df['Title']  = test_df['Name'].str.extract(' ([A-Z][a-z]+)\\.')\n",
        "train_df['Title'].replace(title_mapping, inplace=True)\n",
        "test_df['Title'].replace(title_mapping, inplace=True)\n",
        "\n",
        "train_df['Age'] = train_df.apply(lambda row: fill_age_with_mean(row['Age'], row['Title']), axis=1)\n",
        "test_df['Age'] = test_df.apply(lambda row: fill_age_with_mean(row['Age'], row['Title']), axis=1)\n",
        "train_df['AgeGroup'] = train_df['Age'].apply(extract_age_group)\n",
        "test_df['AgeGroup'] = test_df['Age'].apply(extract_age_group)\n",
        "\n",
        "train_df['FamilySize'] = train_df['SibSp'] + train_df['Parch']\n",
        "test_df['FamilySize'] = test_df['SibSp'] + test_df['Parch']\n",
        "train_df['IsAlone'] = (train_df['FamilySize'] == 1).astype(int)\n",
        "test_df['IsAlone'] = (test_df['FamilySize'] == 1).astype(int)\n",
        "\n",
        "train_df['Fare'] = train_df.apply(lambda row: fill_fare_with_train_mean(row['Fare'], row['Pclass']), axis=1)\n",
        "test_df['Fare'] = test_df.apply(lambda row: fill_fare_with_test_mean(row['Fare'], row['Pclass']), axis=1)\n",
        "train_df['Fare'] = np.where(train_df['Fare'] > 0, np.log(train_df['Fare']), 0)\n",
        "test_df['Fare'] = np.where(test_df['Fare'] > 0, np.log(test_df['Fare']), 0)\n",
        "\n",
        "train_df['Embarked'] = train_df['Embarked'].fillna('S')\n",
        "test_df['Embarked'] = test_df['Embarked'].fillna('S')"
      ],
      "metadata": {
        "id": "o17Ct4I-w4ZU"
      },
      "execution_count": 4,
      "outputs": []
    },
    {
      "cell_type": "code",
      "source": [
        "train_df.drop(['PassengerId', 'Name', 'Age', 'SibSp', 'Parch', 'Ticket', 'Cabin'], axis=1, inplace=True)\n",
        "test_df.drop(['PassengerId', 'Name', 'Age', 'SibSp', 'Parch', 'Ticket', 'Cabin'], axis=1, inplace=True)"
      ],
      "metadata": {
        "id": "-Eb7X3EupCAI"
      },
      "execution_count": 5,
      "outputs": []
    },
    {
      "cell_type": "markdown",
      "source": [
        "# **원-핫 인코딩**"
      ],
      "metadata": {
        "id": "yVjSWpd7vhuI"
      }
    },
    {
      "cell_type": "code",
      "source": [
        "train_df['Sex'] = train_df['Sex'].map({'female': 0, 'male': 1})\n",
        "test_df['Sex'] = test_df['Sex'].map({'female': 0, 'male': 1})\n",
        "\n",
        "train_df['Embarked'] = train_df['Embarked'].map({'C': 0, 'Q': 1, 'S': 2})\n",
        "test_df['Embarked'] = test_df['Embarked'].map({'C': 0, 'Q': 1, 'S': 2})\n",
        "\n",
        "train_df['Title'] = train_df['Title'].map({'Master': 0, 'Miss': 1, 'Mr': 2, 'Mrs': 3})\n",
        "test_df['Title'] = test_df['Title'].map({'Master': 0, 'Miss': 1, 'Mr': 2, 'Mrs': 3})"
      ],
      "metadata": {
        "id": "4ySKQnlMp6Mb"
      },
      "execution_count": 6,
      "outputs": []
    },
    {
      "cell_type": "code",
      "source": [
        "for column in ['Pclass', 'Sex', 'Embarked', 'Title', 'AgeGroup', 'FamilySize', 'IsAlone']:\n",
        "  train_df = pd.get_dummies(train_df, columns=[column], prefix=column)\n",
        "  test_df = pd.get_dummies(test_df, columns=[column], prefix=column)"
      ],
      "metadata": {
        "id": "0gD1pVdDq13u"
      },
      "execution_count": 7,
      "outputs": []
    },
    {
      "cell_type": "markdown",
      "source": [
        "# **모델 학습 및 테스트 세트 예측**"
      ],
      "metadata": {
        "id": "52ph-S7svlBl"
      }
    },
    {
      "cell_type": "code",
      "source": [
        "from sklearn.model_selection import train_test_split, GridSearchCV, KFold\n",
        "from xgboost import XGBClassifier\n",
        "from sklearn.metrics import accuracy_score\n",
        "\n",
        "# 데이터 준비\n",
        "X_train = train_df.drop('Survived', axis=1).values\n",
        "target_label = train_df['Survived'].values\n",
        "X_test = test_df.values\n",
        "\n",
        "# 훈련 세트와 검증 세트로 분할\n",
        "X_tr, X_vld, y_tr, y_vld = train_test_split(X_train, target_label, test_size=0.3, random_state=42)\n",
        "\n",
        "# XGBoost 모델 초기화\n",
        "model = XGBClassifier(use_label_encoder=False, eval_metric='logloss')\n",
        "\n",
        "# 하이퍼파라미터 그리드 설정\n",
        "param_grid = {\n",
        "    'max_depth': [3, 4, 5],\n",
        "    'min_child_weight': [1, 2, 3],\n",
        "    'subsample': [0.6, 0.7, 0.8],\n",
        "    'colsample_bytree': [0.6, 0.7, 0.8],\n",
        "    'n_estimators': [100, 200]\n",
        "}\n",
        "\n",
        "# K-Fold 설정\n",
        "kf = KFold(n_splits=5, shuffle=True, random_state=42)\n",
        "\n",
        "# GridSearchCV 설정\n",
        "grid_search = GridSearchCV(estimator=model, param_grid=param_grid,\n",
        "                           scoring='accuracy', cv=kf, verbose=1, n_jobs=-1)\n",
        "\n",
        "# 모델 학습\n",
        "grid_search.fit(X_tr, y_tr)\n",
        "\n",
        "# 최적 하이퍼파라미터 출력\n",
        "best_params = grid_search.best_params_\n",
        "print(\"Best parameters:\", best_params)\n",
        "\n",
        "# 최적 모델로 검증 데이터에서 성능 평가\n",
        "best_model = grid_search.best_estimator_\n",
        "y_pred = best_model.predict(X_vld)\n",
        "accuracy = accuracy_score(y_vld, y_pred)\n",
        "print(\"Validation Accuracy: {:.2f}\".format(accuracy))"
      ],
      "metadata": {
        "id": "JQkZv_JcqFoh",
        "colab": {
          "base_uri": "https://localhost:8080/"
        },
        "outputId": "d692fc3e-9741-4b29-f565-185492f15a94"
      },
      "execution_count": 8,
      "outputs": [
        {
          "output_type": "stream",
          "name": "stdout",
          "text": [
            "Fitting 5 folds for each of 162 candidates, totalling 810 fits\n",
            "Best parameters: {'colsample_bytree': 0.8, 'max_depth': 4, 'min_child_weight': 3, 'n_estimators': 100, 'subsample': 0.6}\n",
            "Validation Accuracy: 0.81\n"
          ]
        }
      ]
    },
    {
      "cell_type": "code",
      "source": [
        "submission = pd.read_csv('/content/drive/My Drive/titanic/gender_submission.csv')\n",
        "prediction = best_model.predict(X_test)\n",
        "submission['Survived'] = prediction\n",
        "submission.to_csv('./answer.csv', index=False)"
      ],
      "metadata": {
        "id": "GM3NnUxOwNIT"
      },
      "execution_count": 9,
      "outputs": []
    }
  ]
}