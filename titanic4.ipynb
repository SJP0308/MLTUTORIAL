{
  "cells": [
    {
      "cell_type": "markdown",
      "metadata": {
        "id": "view-in-github",
        "colab_type": "text"
      },
      "source": [
        "<a href=\"https://colab.research.google.com/github/SJP0308/MLTUTORIAL/blob/titanic/titanic4.ipynb\" target=\"_parent\"><img src=\"https://colab.research.google.com/assets/colab-badge.svg\" alt=\"Open In Colab\"/></a>"
      ]
    },
    {
      "cell_type": "markdown",
      "metadata": {
        "id": "qOeTw69Vz8Su"
      },
      "source": [
        "# **Define Problem**"
      ]
    },
    {
      "cell_type": "markdown",
      "metadata": {
        "id": "iPwpG52Lz_te"
      },
      "source": [
        "**It is your job to predict if a passenger survived the sinking of the Titanic or not.**\n",
        "For each in the test set, you must predict a 0 or 1 value for the variable."
      ]
    },
    {
      "cell_type": "markdown",
      "metadata": {
        "id": "McMaPjjB0FHg"
      },
      "source": [
        "# **Evaluation**"
      ]
    },
    {
      "cell_type": "markdown",
      "metadata": {
        "id": "Y5Ce5W690GvS"
      },
      "source": [
        "Your score is the percentage of passengers you correctly predict. This is known as **accuracy.**"
      ]
    },
    {
      "cell_type": "markdown",
      "metadata": {
        "id": "YwOlSorxzVoQ"
      },
      "source": [
        "# **Download**"
      ]
    },
    {
      "cell_type": "code",
      "execution_count": 1,
      "metadata": {
        "id": "6Z3x5N1IzU-D"
      },
      "outputs": [],
      "source": [
        "# 데이터셋 다운로드\n",
        "def download_dataset(datafile_name):\n",
        "  from google.colab import drive\n",
        "  drive.mount('/content/drive')\n",
        "  path = f'/content/drive/My Drive/{datafile_name}'\n",
        "  train_df = pd.read_csv(f'{path}/train.csv')\n",
        "  test_df = pd.read_csv(f'{path}/test.csv')\n",
        "  print('데이터 다운로드 완료!')\n",
        "  return pd.concat([train_df, test_df], ignore_index=True)"
      ]
    },
    {
      "cell_type": "code",
      "execution_count": 2,
      "metadata": {
        "colab": {
          "base_uri": "https://localhost:8080/"
        },
        "id": "nHKK70dzE3wP",
        "outputId": "f32c1e3d-c44f-494c-8d2f-f38a5227667b"
      },
      "outputs": [
        {
          "output_type": "stream",
          "name": "stdout",
          "text": [
            "Drive already mounted at /content/drive; to attempt to forcibly remount, call drive.mount(\"/content/drive\", force_remount=True).\n",
            "데이터 다운로드 완료!\n"
          ]
        }
      ],
      "source": [
        "import numpy as np\n",
        "import pandas as pd\n",
        "import matplotlib.pyplot as plt\n",
        "import seaborn as sns\n",
        "\n",
        "import warnings\n",
        "# 경고 메시지를 무시하도록 설정\n",
        "warnings.filterwarnings('ignore')\n",
        "\n",
        "# 플롯을 인라인으로 표시하도록 설정\n",
        "%matplotlib inline\n",
        "\n",
        "df = download_dataset('titanic')"
      ]
    },
    {
      "cell_type": "markdown",
      "source": [
        "# **Features**"
      ],
      "metadata": {
        "id": "-VJobAoi4rtg"
      }
    },
    {
      "cell_type": "code",
      "source": [
        "def fill_age_with_mean(age, title):\n",
        "    if pd.isnull(age):\n",
        "        mean_age = {'Master': 4, 'Miss': 21, 'Mr': 33, 'Mrs':35}\n",
        "        return mean_age.get(title, age)\n",
        "    return age\n",
        "\n",
        "def extract_age_group(age):\n",
        "    if pd.notnull(age):\n",
        "        return int((age-0.01)//10)\n",
        "\n",
        "def fill_fare_with_mean(Fare, Pclass):\n",
        "    if pd.isnull(Fare):\n",
        "        mean_fares = {1: 87.51, 2: 21.18, 3: 13.30}\n",
        "        return mean_fares.get(Pclass, Fare)\n",
        "    return round(Fare, 2)\n",
        "\n",
        "def ticket_number(x):\n",
        "    return x.split(\" \")[-1]\n",
        "\n",
        "def ticket_item(x):\n",
        "    items = x.split(\" \")\n",
        "    if len(items) == 1:\n",
        "      return \"NONE\"\n",
        "    return \"_\".join(items[0:-1])"
      ],
      "metadata": {
        "id": "hdx4d3bO5fnY"
      },
      "execution_count": 3,
      "outputs": []
    },
    {
      "cell_type": "code",
      "source": [
        "title_mapping = {'Mlle': 'Miss', 'Mme': 'Mrs', 'Ms': 'Miss', 'Dr': 'Mr', 'Major': 'Mr', 'Lady': 'Mrs',\n",
        "    'Countess': 'Mrs', 'Jonkheer': 'Mr', 'Col': 'Mr', 'Rev': 'Mr', 'Capt': 'Mr', 'Sir': 'Mr',\n",
        "    'Don': 'Mr', 'Dona': 'Mrs'}\n",
        "df['Title'] = df['Name'].str.extract(' ([A-Z][a-z]+)\\.')\n",
        "df['Title'].replace(title_mapping, inplace=True)\n",
        "\n",
        "df['Age'] = df.apply(lambda row: fill_age_with_mean(row['Age'], row['Title']), axis=1)\n",
        "df['AgeGroup'] = df['Age'].apply(extract_age_group)\n",
        "\n",
        "df['FamilySize'] = df['SibSp'] + df['Parch']\n",
        "df['IsAlone'] = (df['FamilySize']==1).astype(int)\n",
        "\n",
        "df['Fare'] = df.apply(lambda row: fill_fare_with_mean(row['Fare'], row['Pclass']), axis=1)\n",
        "\n",
        "df['Embarked'] = df['Embarked'].fillna('S')\n",
        "\n",
        "df['Ticket_number'] = df['Ticket'].apply(ticket_number)\n",
        "df['Ticket_item'] = df['Ticket'].apply(ticket_item)"
      ],
      "metadata": {
        "id": "PbQTe1U94rQT"
      },
      "execution_count": 4,
      "outputs": []
    },
    {
      "cell_type": "code",
      "source": [
        "for col in ['Pclass', 'AgeGroup', 'FamilySize', 'IsAlone']:\n",
        "  df[col] = df[col].apply(str)\n",
        "\n",
        "df = df.drop(['PassengerId', 'Name', 'Age', 'SibSp',\t'Parch', 'Cabin', 'Ticket'], axis=1)"
      ],
      "metadata": {
        "id": "yxsrQzIm8nQC"
      },
      "execution_count": 5,
      "outputs": []
    },
    {
      "cell_type": "markdown",
      "source": [
        "# **Data processing**"
      ],
      "metadata": {
        "id": "6tfuYwbP06TA"
      }
    },
    {
      "cell_type": "code",
      "source": [
        "from scipy.special import boxcox1p\n",
        "from scipy.stats import boxcox_normmax\n",
        "\n",
        "df['Fare'] = boxcox1p(df['Fare'], boxcox_normmax(df['Fare']+1))"
      ],
      "metadata": {
        "id": "gKchqOM_BoBX"
      },
      "execution_count": 6,
      "outputs": []
    },
    {
      "cell_type": "code",
      "source": [
        "for column in ['Pclass', 'Sex', 'Embarked', 'Title', 'AgeGroup', 'FamilySize','IsAlone', 'Ticket_number', 'Ticket_item']:\n",
        "  df = pd.get_dummies(df, columns=[column], prefix=column)"
      ],
      "metadata": {
        "id": "gcyCQCRIB_tB"
      },
      "execution_count": 7,
      "outputs": []
    },
    {
      "cell_type": "code",
      "source": [
        "from sklearn.preprocessing import RobustScaler\n",
        "\n",
        "rbst_scaler=RobustScaler()\n",
        "X_train = rbst_scaler.fit_transform(df[df['Survived'].notnull()].drop('Survived', axis=1).values)\n",
        "X_test = rbst_scaler.transform(df[df['Survived'].isnull()].drop('Survived', axis=1).values)\n",
        "target_label = df[df['Survived'].notnull()]['Survived'].values.astype(int)"
      ],
      "metadata": {
        "id": "wMQZMZktUtP5"
      },
      "execution_count": 8,
      "outputs": []
    },
    {
      "cell_type": "markdown",
      "metadata": {
        "id": "52ph-S7svlBl"
      },
      "source": [
        "# **model**"
      ]
    },
    {
      "cell_type": "markdown",
      "source": [
        "```pip install -q optuna```"
      ],
      "metadata": {
        "id": "6JAmiU5zWTCF"
      }
    },
    {
      "cell_type": "markdown",
      "source": [
        "```\n",
        "from sklearn.model_selection import KFold\n",
        "from xgboost import XGBClassifier\n",
        "from sklearn.metrics import accuracy_score\n",
        "import optuna\n",
        "from optuna.samplers import TPESampler\n",
        "\n",
        "cv = KFold(n_splits=5, shuffle=True, random_state=42)\n",
        "\n",
        "def objective(trial, X, y):\n",
        "    param = {\n",
        "        'verbosity': 0,\n",
        "        'objective': 'binary:logistic',\n",
        "        'n_estimators': trial.suggest_int('n_estimators', 50, 500),\n",
        "        'max_depth': trial.suggest_int('max_depth', 3, 10),\n",
        "        'learning_rate': trial.suggest_loguniform('learning_rate', 1e-3, 1),\n",
        "        'subsample': trial.suggest_uniform('subsample', 0.5, 1.0),\n",
        "        'colsample_bytree': trial.suggest_uniform('colsample_bytree', 0.5, 1.0),\n",
        "        'gamma': trial.suggest_float('gamma', 0, 5)\n",
        "    }\n",
        "    \n",
        "    cv_scores = []  \n",
        "    \n",
        "    for train_idx, val_idx in cv.split(X, y):\n",
        "        X_train, X_val = X[train_idx], X[val_idx]  \n",
        "        y_train, y_val = y[train_idx], y[val_idx]  \n",
        "        \n",
        "        model = XGBClassifier(**param, random_state=42)\n",
        "        model.fit(X_train, y_train)\n",
        "        y_pred = model.predict(X_val)\n",
        "        accuracy = accuracy_score(y_val, y_pred)\n",
        "        cv_scores.append(accuracy)\n",
        "\n",
        "    return np.mean(cv_scores)\n",
        "\n",
        "study = optuna.create_study(study_name='XGBClassifier_KFold', direction='maximize', sampler=TPESampler(seed=42))\n",
        "study.optimize(lambda trial: objective(trial, X_train, target_label), n_trials=100)\n",
        "\n",
        "print()\n",
        "print(\"Best Score:\", study.best_value)\n",
        "print(\"Best trial:\", study.best_trial.params)\n",
        "```\n",
        "\n",
        "Best Score: 0.8339150084740444\n",
        "\n",
        "Best trial: {'n_estimators': 53, 'max_depth': 9, 'learning_rate': 0.04468804077976062, 'subsample': 0.619925895839222, 'colsample_bytree': 0.9247026894918343, 'gamma': 4.703389502382125}\n"
      ],
      "metadata": {
        "id": "B8mUkLp7WLyH"
      }
    },
    {
      "cell_type": "markdown",
      "source": [
        "```\n",
        "from sklearn.model_selection import KFold\n",
        "from sklearn.ensemble import RandomForestClassifier\n",
        "from sklearn.metrics import accuracy_score\n",
        "import optuna\n",
        "from optuna.samplers import TPESampler\n",
        "\n",
        "cv = KFold(n_splits=5, shuffle=True, random_state=84)\n",
        "\n",
        "def objective(trial, X, y):\n",
        "    param = {\n",
        "        'n_estimators': trial.suggest_int('n_estimators', 50, 500),\n",
        "        'max_depth': trial.suggest_int('max_depth', 3, 20),\n",
        "        'min_samples_split': trial.suggest_int('min_samples_split', 2, 10),\n",
        "        'min_samples_leaf': trial.suggest_int('min_samples_leaf', 1, 10),\n",
        "        'max_features': trial.suggest_categorical('max_features', ['sqrt', 'log2', None]),\n",
        "    }\n",
        "\n",
        "    cv_scores = []  \n",
        "\n",
        "    for train_idx, val_idx in cv.split(X, y):\n",
        "        X_train, X_val = X[train_idx], X[val_idx]  \n",
        "        y_train, y_val = y[train_idx], y[val_idx]  \n",
        "\n",
        "        model = RandomForestClassifier(**param, random_state=84)\n",
        "        model.fit(X_train, y_train)\n",
        "        y_pred = model.predict(X_val)\n",
        "        accuracy = accuracy_score(y_val, y_pred)\n",
        "        cv_scores.append(accuracy)\n",
        "\n",
        "    return np.mean(cv_scores)\n",
        "\n",
        "study = optuna.create_study(study_name='RandomForest_KFold', direction='maximize', sampler=TPESampler(seed=84))\n",
        "study.optimize(lambda trial: objective(trial, X_train, target_label), n_trials=100)\n",
        "\n",
        "print()\n",
        "print(\"Best Score:\", study.best_value)\n",
        "print(\"Best trial:\", study.best_trial.params)\n",
        "```\n",
        "\n",
        "\n",
        "Best Score: 0.8373171803402173\n",
        "\n",
        "Best trial: {'n_estimators': 168, 'max_depth': 20, 'min_samples_split': 8, 'min_samples_leaf': 1, 'max_features': None}"
      ],
      "metadata": {
        "id": "UvJWrBDQeuoA"
      }
    },
    {
      "cell_type": "markdown",
      "source": [
        "```\n",
        "from sklearn.model_selection import KFold\n",
        "from lightgbm import LGBMClassifier\n",
        "from sklearn.metrics import accuracy_score\n",
        "import optuna\n",
        "from optuna.samplers import TPESampler\n",
        "\n",
        "cv = KFold(n_splits=5, shuffle=True, random_state=126)\n",
        "\n",
        "def objective(trial, X, y):\n",
        "    param = {\n",
        "        'n_estimators': trial.suggest_int('n_estimators', 50, 500),\n",
        "        'max_depth': trial.suggest_int('max_depth', -1, 20),\n",
        "        'learning_rate': trial.suggest_loguniform('learning_rate', 1e-3, 1.0),\n",
        "        'num_leaves': trial.suggest_int('num_leaves', 20, 150),\n",
        "        'min_child_samples': trial.suggest_int('min_child_samples', 1, 50),\n",
        "        'subsample': trial.suggest_uniform('subsample', 0.5, 1.0),\n",
        "        'colsample_bytree': trial.suggest_uniform('colsample_bytree', 0.5, 1.0),\n",
        "    }\n",
        "\n",
        "    cv_scores = []\n",
        "\n",
        "    for train_idx, val_idx in cv.split(X, y):\n",
        "        X_train, X_val = X[train_idx], X[val_idx]\n",
        "        y_train, y_val = y[train_idx], y[val_idx]\n",
        "\n",
        "        model = LGBMClassifier(**param, verbosity=-1, random_state=126)\n",
        "        model.fit(X_train, y_train)\n",
        "        y_pred = model.predict(X_val)\n",
        "        accuracy = accuracy_score(y_val, y_pred)\n",
        "        cv_scores.append(accuracy)\n",
        "\n",
        "    return np.mean(cv_scores)\n",
        "\n",
        "study = optuna.create_study(study_name='LGBM_KFold', direction='maximize', sampler=TPESampler(seed=126))\n",
        "study.optimize(lambda trial: objective(trial, X_train, target_label), n_trials=100)\n",
        "\n",
        "print()\n",
        "print(\"Best Score:\", study.best_value)\n",
        "print(\"Best trial:\", study.best_trial.params)\n",
        "```\n",
        "\n",
        "\n",
        "\n",
        "Best Score: 0.8417487916640513\n",
        "\n",
        "Best trial: {'n_estimators': 480, 'max_depth': 2, 'learning_rate': 0.2227965278616023, 'num_leaves': 139, 'min_child_samples': 48, 'subsample': 0.6453476617376205, 'colsample_bytree': 0.9580024676190495}"
      ],
      "metadata": {
        "id": "HQ-GqLXJj4zi"
      }
    },
    {
      "cell_type": "code",
      "source": [
        "from xgboost import XGBClassifier\n",
        "from sklearn.ensemble import RandomForestClassifier\n",
        "from lightgbm import LGBMClassifier\n",
        "\n",
        "xgb_param={'n_estimators': 53, 'max_depth': 9, 'learning_rate': 0.04468804077976062, 'subsample': 0.619925895839222,\n",
        "           'colsample_bytree': 0.9247026894918343, 'gamma': 4.703389502382125}\n",
        "rf_param={'n_estimators': 168, 'max_depth': 20, 'min_samples_split': 8, 'min_samples_leaf': 1, 'max_features': None}\n",
        "lgb_param={'n_estimators': 480, 'max_depth': 2, 'learning_rate': 0.2227965278616023, 'num_leaves': 139,\n",
        "           'min_child_samples': 48, 'subsample': 0.6453476617376205, 'colsample_bytree': 0.9580024676190495}\n",
        "\n",
        "xgb = XGBClassifier(**xgb_param, random_state=42).fit(X_train, target_label)\n",
        "rf = RandomForestClassifier(**rf_param, random_state=84).fit(X_train, target_label)\n",
        "lgb = LGBMClassifier(**lgb_param, verbosity=-1, random_state=126).fit(X_train, target_label)"
      ],
      "metadata": {
        "id": "KgBKZ503ogUz"
      },
      "execution_count": 9,
      "outputs": []
    },
    {
      "cell_type": "markdown",
      "source": [
        "# **Ensemble**"
      ],
      "metadata": {
        "id": "MhuW3b5ttfKx"
      }
    },
    {
      "cell_type": "code",
      "source": [
        "test_XGB = pd.Series(xgb.predict(X_test), name=\"XGB\")\n",
        "test_RF = pd.Series(rf.predict(X_test), name=\"RF\")\n",
        "test_LGB = pd.Series(lgb.predict(X_test), name=\"LGB\")\n",
        "\n",
        "ensemble_results = pd.concat([test_XGB, test_RF, test_LGB],axis=1)\n",
        "g= sns.heatmap(ensemble_results.corr(),annot=True)"
      ],
      "metadata": {
        "colab": {
          "base_uri": "https://localhost:8080/",
          "height": 435
        },
        "id": "Ax963olwUu5V",
        "outputId": "c199f859-3923-4f71-9402-ed9711417993"
      },
      "execution_count": 10,
      "outputs": [
        {
          "output_type": "display_data",
          "data": {
            "text/plain": [
              "<Figure size 640x480 with 2 Axes>"
            ],
            "image/png": "[encoded data removed]"
          },
          "metadata": {}
        }
      ]
    },
    {
      "cell_type": "code",
      "source": [
        "test_XGB_prob = xgb.predict_proba(X_test)[:,1]\n",
        "test_RF_prob = rf.predict_proba(X_test)[:,1]\n",
        "test_LGB_prob = lgb.predict_proba(X_test)[:,1]\n",
        "\n",
        "ensemble_probs = (0.3*test_XGB_prob + 0.4*test_RF_prob + 0.3*test_LGB_prob)\n",
        "pred = (ensemble_probs >= 0.5).astype(int)\n",
        "submission = pd.read_csv('/content/drive/My Drive/titanic/gender_submission.csv')\n",
        "submission['Survived'] = pred\n",
        "submission.to_csv('./ensemble_answer.csv', index=False)"
      ],
      "metadata": {
        "id": "zBEeB9taVj4G"
      },
      "execution_count": 11,
      "outputs": []
    },
    {
      "cell_type": "code",
      "source": [
        "from sklearn.ensemble import VotingClassifier\n",
        "\n",
        "votingC = VotingClassifier(estimators=[('XGB', xgb), ('RF',rf), ('LGB', lgb)], voting='soft', n_jobs=-1)\n",
        "votingC = votingC.fit(X_train, target_label)\n",
        "vote = pd.Series(votingC.predict(X_test))\n",
        "submission = pd.read_csv('/content/drive/My Drive/titanic/gender_submission.csv')\n",
        "submission['Survived'] = vote.astype(int)\n",
        "submission.to_csv('./vote_answer.csv', index=False)"
      ],
      "metadata": {
        "id": "yLazB66qWrXT"
      },
      "execution_count": 12,
      "outputs": []
    },
    {
      "cell_type": "code",
      "source": [
        "from mlxtend.classifier import StackingClassifier\n",
        "from sklearn.linear_model import LogisticRegression\n",
        "\n",
        "clf1 = xgb\n",
        "clf2 = rf\n",
        "clf3 = lgb\n",
        "\n",
        "sc = StackingClassifier(classifiers=[clf1, clf2, clf3], meta_classifier=LogisticRegression())\n",
        "stacking = sc.fit(X_train, target_label)\n",
        "stack = stacking.predict(X_test)\n",
        "\n",
        "submission = pd.read_csv('/content/drive/My Drive/titanic/gender_submission.csv')\n",
        "submission['Survived'] = stack.astype(int)\n",
        "submission.to_csv('./stack_answer.csv', index=False)"
      ],
      "metadata": {
        "id": "GlPvYSbvXmOm"
      },
      "execution_count": 13,
      "outputs": []
    },
    {
      "cell_type": "code",
      "source": [
        "from sklearn.model_selection import KFold\n",
        "from sklearn.pipeline import make_pipeline\n",
        "from sklearn.linear_model import LogisticRegressionCV\n",
        "from sklearn.svm import SVC\n",
        "from mlxtend.classifier import StackingCVClassifier\n",
        "\n",
        "# KFold 정의\n",
        "kfolds = KFold(n_splits=10, shuffle=True, random_state=42)\n",
        "\n",
        "# 개별 분류기 정의\n",
        "ridge = make_pipeline(RobustScaler(), LogisticRegressionCV(cv=kfolds))\n",
        "lasso = make_pipeline(RobustScaler(), LogisticRegressionCV(cv=kfolds))\n",
        "enet = make_pipeline(RobustScaler(), LogisticRegressionCV(cv=kfolds))\n",
        "svc = make_pipeline(RobustScaler(), SVC(C=20, gamma=0.0003, probability=True))\n",
        "\n",
        "# 스태킹 모델 정의\n",
        "stack_gen = StackingCVClassifier(classifiers=(ridge, lasso, enet, svc, rf, xgb, lgb),\n",
        "                                  meta_classifier=LogisticRegressionCV(),\n",
        "                                  use_features_in_secondary=True)\n",
        "\n",
        "# 모델 학습\n",
        "stack_gen_model = stack_gen.fit(np.array(X_train), np.array(target_label))\n",
        "\n",
        "# 각 모델 개별 학습\n",
        "elastic_model = enet.fit(X_train, target_label)\n",
        "lasso_model = lasso.fit(X_train, target_label)\n",
        "ridge_model = ridge.fit(X_train, target_label)\n",
        "svc_model = svc.fit(X_train, target_label)\n",
        "rf_model = rf.fit(X_train, target_label)\n",
        "xgb_model = xgb.fit(X_train, target_label)\n",
        "lgb_model = lgb.fit(X_train, target_label)\n",
        "\n",
        "# 예측 함수 정의\n",
        "def blend_models_predict(X):\n",
        "    elastic_prob = elastic_model.predict_proba(X)[:, 1]\n",
        "    lasso_prob = lasso_model.predict_proba(X)[:, 1]\n",
        "    ridge_prob = ridge_model.predict_proba(X)[:, 1]\n",
        "    svc_prob = svc_model.predict_proba(X)[:, 1]\n",
        "    rf_prob = rf_model.predict_proba(X)[:, 1]\n",
        "    xgb_prob = xgb_model.predict_proba(X)[:, 1]\n",
        "    lgb_prob = lgb_model.predict_proba(X)[:, 1]\n",
        "    stack_prob = stack_gen_model.predict_proba(X)[:, 1]\n",
        "\n",
        "    blended_prob = (0.1 * elastic_prob +\n",
        "                    0.1 * lasso_prob +\n",
        "                    0.1 * ridge_prob +\n",
        "                    0.1 * svc_prob +\n",
        "                    0.15 * rf_prob +\n",
        "                    0.1 * xgb_prob +\n",
        "                    0.1 * lgb_prob +\n",
        "                    0.25 * stack_prob)\n",
        "\n",
        "    return (blended_prob >= 0.5).astype(int)\n",
        "\n",
        "# 데이터 로드 및 예측\n",
        "blend = blend_models_predict(X_test)\n",
        "submission = pd.read_csv('/content/drive/My Drive/titanic/gender_submission.csv')\n",
        "submission['Survived'] = blend.astype(int)\n",
        "submission.to_csv('./blend_answer.csv', index=False)"
      ],
      "metadata": {
        "id": "Pj0nTExPwuFp"
      },
      "execution_count": 14,
      "outputs": []
    }
  ],
  "metadata": {
    "colab": {
      "provenance": [],
      "collapsed_sections": [
        "qOeTw69Vz8Su",
        "McMaPjjB0FHg",
        "YwOlSorxzVoQ",
        "-VJobAoi4rtg",
        "6tfuYwbP06TA"
      ],
      "authorship_tag": "ABX9TyNmsaprMNzZXFi0XUWCUNzg",
      "include_colab_link": true
    },
    "kernelspec": {
      "display_name": "Python 3",
      "name": "python3"
    },
    "language_info": {
      "name": "python"
    }
  },
  "nbformat": 4,
  "nbformat_minor": 0
}